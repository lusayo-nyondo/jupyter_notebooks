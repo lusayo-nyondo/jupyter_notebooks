{
 "cells": [
  {
   "cell_type": "markdown",
   "id": "ad4f5245-d6db-4d3f-b0c6-90bdd42ef077",
   "metadata": {},
   "source": [
    "# Notes\n",
    "\n",
    "C has four types of scope:\n",
    "\n",
    "1. file - global, basically. outside any function or object.\n",
    "2. block - if it's declared within a block or the list of parameters of a block.\n",
    "3. function prototype - if a declaration appears within a function prototype, it is just scoped to that definition.\n",
    "    `void function(int a, int b);` <-- a and b have prototype scope probably.\n",
    "4. function scope - this is the area between the `{` and `}` of a function. Label names are the only things with this scope. So I suppose that means that you can declare a label in absolutely any block within a function and it'll be available in other blocks?\n",
    "\n",
    "\n",
    "Scopes can be nested. Inner scope has access to outer scope. Inner scope overrides outer scope."
   ]
  },
  {
   "cell_type": "code",
   "execution_count": null,
   "id": "e735755d-2d4e-4712-9dd6-8e410a21960f",
   "metadata": {},
   "outputs": [],
   "source": []
  }
 ],
 "metadata": {
  "kernelspec": {
   "display_name": "C",
   "language": "c",
   "name": "c"
  },
  "language_info": {
   "file_extension": ".c",
   "mimetype": "text/plain",
   "name": "c"
  }
 },
 "nbformat": 4,
 "nbformat_minor": 5
}
