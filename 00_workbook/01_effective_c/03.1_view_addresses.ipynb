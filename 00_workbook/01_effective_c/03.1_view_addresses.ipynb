{
 "cells": [
  {
   "cell_type": "code",
   "execution_count": 8,
   "id": "f7143371-072a-40ab-8e72-fe503dd7bec2",
   "metadata": {},
   "outputs": [
    {
     "name": "stdout",
     "output_type": "stream",
     "text": [
      "pre_swap_values: 1, 2\n",
      "pre_swap_addresses: 0x7fffc207ecd0, 0x7fffc207ecd4\n",
      "\n",
      "preswap_values_in_function: 1, 2\n",
      "preswap_addresses_in_function: 0x7fffc207ecac, 0x7fffc207eca8\n",
      "postswap_values_in_function: 2, 1\n",
      "postswap_addresses_in_function: 0x7fffc207ecac, 0x7fffc207eca8\n",
      "\n",
      "post_swap_values: 1, 2\n",
      "post_swap_addresses: 0x7fffc207ecd0, 0x7fffc207ecd4\n"
     ]
    }
   ],
   "source": [
    "#include <stdio.h>\n",
    "#include <stdlib.h>\n",
    "\n",
    "void swap(int x, int y) {\n",
    "    printf(\"preswap_values_in_function: %d, %d\\n\", x, y);\n",
    "    printf(\"preswap_addresses_in_function: %p, %p\\n\", &x, &y);\n",
    "\n",
    "    int temp = x;\n",
    "\n",
    "    x = y;\n",
    "    y = temp;\n",
    "\n",
    "    printf(\"postswap_values_in_function: %d, %d\\n\", x, y);\n",
    "    printf(\"postswap_addresses_in_function: %p, %p\\n\\n\", &x, &y);\n",
    "}\n",
    "\n",
    "int main() {\n",
    "    int x = 1;\n",
    "    int y = 2;\n",
    "\n",
    "    printf(\"pre_swap_values: %d, %d\\n\", x, y);\n",
    "    printf(\"pre_swap_addresses: %p, %p\\n\\n\", &x, &y);\n",
    "\n",
    "    swap(x, y);\n",
    "\n",
    "    printf(\"post_swap_values: %d, %d\\n\", x, y);\n",
    "    printf(\"post_swap_addresses: %p, %p\\n\", &x, &y);\n",
    "\n",
    "    return EXIT_SUCCESS;\n",
    "}"
   ]
  },
  {
   "cell_type": "markdown",
   "id": "bb0e108e-ad15-413b-9b8f-1371812f26c2",
   "metadata": {},
   "source": [
    "# Notes\n",
    "\n",
    "Look at the output here. If you'll note, the memory addresses for our variables outside the function remain consistent outside the function. However, the moment we pass our values into the function, they are given new memory addresses.\n",
    "\n",
    "Even though we've denoted them all with `x` and `y`, the arguments `x` and `y` are distinct entities from the parameters `x` and `y`.\n",
    "\n",
    "Here, the memory addresses `0x7fffc207ecd0` and `0x7fffc207ecd4` are our arguments and the memory addresses `0x7fffc207ecac` and `0x7fffc207eca8` are our parameters.\n",
    "\n",
    "When you see this distinction, you can now see why swapping inside the function does not swap outside the function. It's because the values that we're swapping inside the function are being swapped in a completely different area in memory.\n",
    "\n",
    "To successfully swap them in a way that allows the function to swap the values declared outside the scope of the function, we reference the pointers using special syntax."
   ]
  },
  {
   "cell_type": "code",
   "execution_count": null,
   "id": "bcc8ad7d-52f1-48ef-9fc9-a1ac7094d895",
   "metadata": {},
   "outputs": [],
   "source": []
  }
 ],
 "metadata": {
  "kernelspec": {
   "display_name": "C",
   "language": "c",
   "name": "c"
  },
  "language_info": {
   "file_extension": ".c",
   "mimetype": "text/plain",
   "name": "c"
  }
 },
 "nbformat": 4,
 "nbformat_minor": 5
}
