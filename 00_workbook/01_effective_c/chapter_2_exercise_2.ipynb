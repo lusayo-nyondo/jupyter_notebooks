{
 "cells": [
  {
   "cell_type": "code",
   "execution_count": 16,
   "id": "f33332c5-21f5-40b2-8fd0-0e4fb0963f2f",
   "metadata": {},
   "outputs": [
    {
     "name": "stdout",
     "output_type": "stream",
     "text": [
      "1\n",
      "2\n",
      "3\n"
     ]
    }
   ],
   "source": [
    "#include <stdio.h>\n",
    "#include <stdlib.h>\n",
    "\n",
    "int func1(void) {\n",
    "    return 1;\n",
    "}\n",
    "\n",
    "int func2(void) {\n",
    "    return 2;\n",
    "}\n",
    "\n",
    "int func3(void) {\n",
    "    return 3;\n",
    "}\n",
    "\n",
    "int main() {\n",
    "    int(*funcs[3])(void);\n",
    "    \n",
    "    funcs[0] = &func1;\n",
    "    funcs[1] = &func2;\n",
    "    funcs[2] = &func3;\n",
    "\n",
    "    printf(\"%d\\n\", funcs[0]());\n",
    "    printf(\"%d\\n\", funcs[1]());\n",
    "    printf(\"%d\\n\", funcs[2]());\n",
    "\n",
    "    return EXIT_SUCCESS;\n",
    "}"
   ]
  },
  {
   "cell_type": "code",
   "execution_count": null,
   "id": "fcc58d79-ba9a-43af-9659-9b3933e8f6a7",
   "metadata": {},
   "outputs": [],
   "source": []
  }
 ],
 "metadata": {
  "kernelspec": {
   "display_name": "C",
   "language": "c",
   "name": "c"
  },
  "language_info": {
   "file_extension": ".c",
   "mimetype": "text/plain",
   "name": "c"
  }
 },
 "nbformat": 4,
 "nbformat_minor": 5
}
