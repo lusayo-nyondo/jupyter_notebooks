{
 "cells": [
  {
   "cell_type": "code",
   "execution_count": 11,
   "id": "c2bc563a-37ff-4177-843d-0c5bae58cf1e",
   "metadata": {},
   "outputs": [
    {
     "name": "stdout",
     "output_type": "stream",
     "text": [
      "0\n",
      "1\n"
     ]
    }
   ],
   "source": [
    "#include <stdio.h>\n",
    "#include <stdlib.h>\n",
    "#include <stdbool.h>\n",
    "\n",
    "_Bool flag1 = 0;\n",
    "bool flag2 = true;\n",
    "\n",
    "int main() {\n",
    "    printf(\"%d\\n\", flag1);\n",
    "    printf(\"%b\\n\", flag2);\n",
    "    return EXIT_SUCCESS;\n",
    "}"
   ]
  },
  {
   "cell_type": "markdown",
   "id": "3e0c35af-a2b5-4c55-9b56-dfbddc81567b",
   "metadata": {},
   "source": [
    "# Notes\n",
    "\n",
    "So C has the following types:\n",
    "\n",
    "1. bool\n",
    "2. char\n",
    "3. unsigned char\n",
    "4. signed char\n",
    "5. wchar_t\n",
    "6. short int\n",
    "7. int\n",
    "8. long int\n",
    "10. long long int\n",
    "11. unsigned short int\n",
    "12. unsigned int\n",
    "13. unsigned long int\n",
    "14. unsigned long long int\n",
    "15. enum\n",
    "16. float\n",
    "17. double\n",
    "18. long double\n",
    "19. void\n",
    "20. function types\n",
    "21. derived types (pointers, arrays, type definitions, structs, unions).\n",
    "    - Pointer type - this is derviced from the function or object type that it points to, called the referenced type. (`*` is called the indirection operator and its use to dereference a pointer, `&` is called the address-of operator and is used to reference a pointer.\n",
    "    - Array type - a contiguously allocated sequence of objects that have the same designated element type.\n",
    "\n",
    "There are more types in special header files. like `stdint.h`, `inttypes.h`, `stdbool.h`. some limits are specified in `limits.h`.\n",
    "\n",
    "In C, a function with an empty parameter list means it accepts ANY number of arguments of ANY type. So you need to specifically give it a `void` parameter to denote that it accepts no parameters."
   ]
  },
  {
   "cell_type": "code",
   "execution_count": null,
   "id": "69700653-8468-421a-aaa9-dbf7dad72a7c",
   "metadata": {},
   "outputs": [],
   "source": []
  }
 ],
 "metadata": {
  "kernelspec": {
   "display_name": "C",
   "language": "c",
   "name": "c"
  },
  "language_info": {
   "file_extension": ".c",
   "mimetype": "text/plain",
   "name": "c"
  }
 },
 "nbformat": 4,
 "nbformat_minor": 5
}
