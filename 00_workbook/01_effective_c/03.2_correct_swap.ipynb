{
 "cells": [
  {
   "cell_type": "code",
   "execution_count": 2,
   "id": "f402af4c-53f4-44c3-8d83-6bdb808831f9",
   "metadata": {},
   "outputs": [
    {
     "name": "stdout",
     "output_type": "stream",
     "text": [
      "pre_swap_values: 1, 2\n",
      "pre_swap_addresses: 0x7fff1ef8ba10, 0x7fff1ef8ba14\n",
      "\n",
      "preswap_values_in_function: 1, 2\n",
      "preswap_addresses_in_function: 0x7fff1ef8ba10, 0x7fff1ef8ba14\n",
      "postswap_values_in_function: 2, 1\n",
      "postswap_addresses_in_function: 0x7fff1ef8ba10, 0x7fff1ef8ba14\n",
      "\n",
      "post_swap_values: 2, 1\n",
      "post_swap_addresses: 0x7fff1ef8ba10, 0x7fff1ef8ba14\n"
     ]
    }
   ],
   "source": [
    "#include <stdio.h>\n",
    "#include <stdlib.h>\n",
    "\n",
    "void swap(int* x, int* y) {\n",
    "    printf(\"preswap_values_in_function: %d, %d\\n\", *x, *y);\n",
    "    printf(\"preswap_addresses_in_function: %p, %p\\n\", x, y);\n",
    "\n",
    "    int temp = *x;\n",
    "\n",
    "    *x = *y;\n",
    "    *y = temp;\n",
    "\n",
    "    printf(\"postswap_values_in_function: %d, %d\\n\", *x, *y);\n",
    "    printf(\"postswap_addresses_in_function: %p, %p\\n\\n\", x, y);\n",
    "}\n",
    "\n",
    "int main() {\n",
    "    int x = 1;\n",
    "    int y = 2;\n",
    "\n",
    "    printf(\"pre_swap_values: %d, %d\\n\", x, y);\n",
    "    printf(\"pre_swap_addresses: %p, %p\\n\\n\", &x, &y);\n",
    "\n",
    "    swap(&x, &y);\n",
    "\n",
    "    printf(\"post_swap_values: %d, %d\\n\", x, y);\n",
    "    printf(\"post_swap_addresses: %p, %p\\n\", &x, &y);\n",
    "\n",
    "    return EXIT_SUCCESS;\n",
    "}"
   ]
  },
  {
   "cell_type": "markdown",
   "id": "4e116944-3981-4a1b-9a38-57305752219d",
   "metadata": {},
   "source": [
    "# Notes\n",
    "\n",
    "Here, as you can see, we passed pointers to x and y instead of just passing the values.\n",
    "\n",
    "In this case, the parameters `x` and `y` truly do refer to the same memory locations as the arguments `x` and `y`. As such, swapping works as you would expect.\n",
    "\n",
    "There's a few syntactical caveats.\n",
    "\n",
    "1. &x -> Referencing the pointer of a variable. This gives you the memory address that stores the value of `x`. This operator can only be used on variables that contain values.\n",
    "2. *x -> Dereferencing the pointer. This gives you the actual value stored at the pointer `x`. This operator can only be used on variables that contain pointers. It can also be used to assign a new value to the pointer.\n",
    "\n",
    "We've had to use a blend of the two to achieve our swap.\n",
    "\n",
    "- `int temp = *x;` - We dereference x (i.e. get the value at pointer `x`) and assign it to temp. Temp is a new memory address that now contains our value.\n",
    "- `*x = *y` - Now that we've saved the old value of `x`, we dereference `y` and assign it to `x`. Using `*x = <value>` syntax effectively overwrites the value at a given pointer.\n",
    "- `*y = temp` - Finally, we use that pointer assignment syntax to assign y to the value of temp. Since temp is a value-based variable, it doesn't dereferencing."
   ]
  },
  {
   "cell_type": "code",
   "execution_count": null,
   "id": "bdde8907-108b-4ae6-acd4-4c948f1f4f9b",
   "metadata": {},
   "outputs": [],
   "source": []
  }
 ],
 "metadata": {
  "kernelspec": {
   "display_name": "C",
   "language": "c",
   "name": "c"
  },
  "language_info": {
   "file_extension": ".c",
   "mimetype": "text/plain",
   "name": "c"
  }
 },
 "nbformat": 4,
 "nbformat_minor": 5
}
