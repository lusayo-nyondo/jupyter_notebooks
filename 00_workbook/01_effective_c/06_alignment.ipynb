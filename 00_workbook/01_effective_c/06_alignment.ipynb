{
 "cells": [
  {
   "cell_type": "markdown",
   "id": "f1716404-3b02-4289-bb59-e6197254d5bc",
   "metadata": {},
   "source": [
    "# Note\n",
    "\n",
    "Complicated. Out of scope.\n"
   ]
  },
  {
   "cell_type": "code",
   "execution_count": null,
   "id": "26a3bfe9-2e3d-4a9b-b93c-520f868b93a6",
   "metadata": {},
   "outputs": [],
   "source": []
  }
 ],
 "metadata": {
  "kernelspec": {
   "display_name": "C",
   "language": "c",
   "name": "c"
  },
  "language_info": {
   "file_extension": ".c",
   "mimetype": "text/plain",
   "name": "c"
  }
 },
 "nbformat": 4,
 "nbformat_minor": 5
}
