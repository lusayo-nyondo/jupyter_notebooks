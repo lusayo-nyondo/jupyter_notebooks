{
 "cells": [
  {
   "cell_type": "code",
   "execution_count": 9,
   "id": "98a0aba0-07cb-4440-8452-3e81bd6e3019",
   "metadata": {},
   "outputs": [
    {
     "name": "stdout",
     "output_type": "stream",
     "text": [
      "5, 20"
     ]
    }
   ],
   "source": [
    "#include <stdio.h>\n",
    "#include <stdlib.h>\n",
    "\n",
    "int main() {\n",
    "    const int i = 5;\n",
    "    volatile int *l = malloc(sizeof(int));\n",
    "    *l = 20;\n",
    "    int x = *l;\n",
    "    *l = x;\n",
    "\n",
    "    printf(\"%d, %d\", i, *l);\n",
    "\n",
    "    return 0;\n",
    "}"
   ]
  },
  {
   "cell_type": "code",
   "execution_count": null,
   "id": "862fdbf0-8241-4c7a-b1e7-047598eede58",
   "metadata": {},
   "outputs": [],
   "source": []
  }
 ],
 "metadata": {
  "kernelspec": {
   "display_name": "C",
   "language": "c",
   "name": "c"
  },
  "language_info": {
   "file_extension": ".c",
   "mimetype": "text/plain",
   "name": "c"
  }
 },
 "nbformat": 4,
 "nbformat_minor": 5
}
