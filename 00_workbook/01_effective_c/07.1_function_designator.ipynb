{
 "cells": [
  {
   "cell_type": "code",
   "execution_count": 1,
   "id": "53f45297-29c7-416e-83ea-43fab2232353",
   "metadata": {},
   "outputs": [
    {
     "name": "stdout",
     "output_type": "stream",
     "text": [
      "function designator: 0x790eadee4139"
     ]
    }
   ],
   "source": [
    "#include <stdio.h>\n",
    "#include <stdlib.h>\n",
    "\n",
    "void function(void) {\n",
    "    puts(\"I am the designated function\");\n",
    "}\n",
    "\n",
    "int main() {\n",
    "    printf(\"function designator: %p\", &function);\n",
    "    return EXIT_SUCCESS;\n",
    "}"
   ]
  },
  {
   "cell_type": "markdown",
   "id": "ef7cb4f7-1871-4d1a-9715-39bdb0b1897b",
   "metadata": {},
   "source": [
    "# Note\n",
    "\n",
    "Functions are also stored in memory. The memory address where the function is located is called the function designator."
   ]
  },
  {
   "cell_type": "code",
   "execution_count": null,
   "id": "e5fdcff4-d320-45a2-bf32-e1ac9a18d6b1",
   "metadata": {},
   "outputs": [],
   "source": []
  }
 ],
 "metadata": {
  "kernelspec": {
   "display_name": "C",
   "language": "c",
   "name": "c"
  },
  "language_info": {
   "file_extension": ".c",
   "mimetype": "text/plain",
   "name": "c"
  }
 },
 "nbformat": 4,
 "nbformat_minor": 5
}
