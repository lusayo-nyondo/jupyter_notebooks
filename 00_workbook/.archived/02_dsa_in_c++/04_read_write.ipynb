{
 "cells": [
  {
   "cell_type": "code",
   "execution_count": 5,
   "id": "7201c8bc-d95b-43f4-8dde-783cdfa3226e",
   "metadata": {},
   "outputs": [
    {
     "data": {
      "text/markdown": [
       "What is your name?\n",
       "\n"
      ]
     },
     "metadata": {},
     "output_type": "display_data"
    },
    {
     "name": "stdin",
     "output_type": "stream",
     "text": [
      " Lusayo\n"
     ]
    },
    {
     "data": {
      "text/markdown": [
       "Lusayo"
      ]
     },
     "metadata": {},
     "output_type": "display_data"
    }
   ],
   "source": [
    "#include <stdio.h>\n",
    "#include <stdlib.h>\n",
    "#include <iostream>\n",
    "\n",
    "int main(void) {\n",
    "    printf(\"What is your name?\\n\");\n",
    "    char s[20];\n",
    "    std::cin >> s;\n",
    "    std::cout << s;\n",
    "    return EXIT_SUCCESS;\n",
    "}"
   ]
  },
  {
   "cell_type": "code",
   "execution_count": null,
   "id": "1b79d05a-b320-43ad-a703-9966aa0c5abc",
   "metadata": {},
   "outputs": [],
   "source": []
  }
 ],
 "metadata": {
  "kernelspec": {
   "display_name": "C++ 20",
   "language": "c++",
   "name": "cpp20"
  },
  "language_info": {
   "file_extension": ".cpp",
   "mimetype": "text/markdown",
   "name": "C++",
   "version": "1.0.0a9"
  }
 },
 "nbformat": 4,
 "nbformat_minor": 5
}
