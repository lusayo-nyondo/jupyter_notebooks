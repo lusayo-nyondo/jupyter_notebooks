{
 "cells": [
  {
   "cell_type": "code",
   "execution_count": 8,
   "id": "2a9cc288-7d83-4ae8-93d2-59036e687e90",
   "metadata": {},
   "outputs": [
    {
     "data": {
      "text/markdown": [
       "Your suit is: Diamond"
      ]
     },
     "metadata": {},
     "output_type": "display_data"
    }
   ],
   "source": [
    "#include <iostream>\n",
    "#include <cstdlib>\n",
    "#include <ctime>\n",
    "\n",
    "using namespace std;\n",
    "\n",
    "enum CardSuits {\n",
    "    Club,\n",
    "    Diamond,\n",
    "    Heart,\n",
    "    Spade,\n",
    "};\n",
    "\n",
    "enum CardElements {\n",
    "    Ace,\n",
    "    Two,\n",
    "    Three,\n",
    "    Four,\n",
    "    Five,\n",
    "    Six,\n",
    "    Seven,\n",
    "    Eight,\n",
    "    Nine,\n",
    "    Ten,\n",
    "    Jack,\n",
    "    Queen,\n",
    "    King,\n",
    "};\n",
    "\n",
    "int GenerateRandomNumber(int min, int max) {\n",
    "    static const double fraction = 1.0 / (static_cast<double>(RAND_MAX) + 1.0);\n",
    "    return min + static_cast<int>(\n",
    "        (max - min + 1) * (rand() * fraction)\n",
    "    );\n",
    "}\n",
    "\n",
    "string GetSuitString(CardSuits suit) {\n",
    "    string s;\n",
    "\n",
    "    switch(suit) {\n",
    "        case Club:\n",
    "            s = \"Club\";\n",
    "            break;\n",
    "        case Diamond:\n",
    "            s = \"Diamond\";\n",
    "            break;\n",
    "        case Heart:\n",
    "            s = \"Heart\";\n",
    "            break;\n",
    "        case Spade:\n",
    "            s = \"Spade\";\n",
    "            break;\n",
    "    }\n",
    "\n",
    "    return s;\n",
    "}\n",
    "\n",
    "int main() {\n",
    "    srand(static_cast<unsigned int>(time(0)));\n",
    "\n",
    "    int iSuit = GenerateRandomNumber(0, 3);\n",
    "\n",
    "    CardSuits suit = static_cast<CardSuits>(iSuit);\n",
    "    cout << \"Your suit is: \";\n",
    "    cout << GetSuitString(suit);\n",
    "\n",
    "    return EXIT_SUCCESS;\n",
    "}"
   ]
  },
  {
   "cell_type": "code",
   "execution_count": null,
   "id": "54d85e48-b06e-425c-84bb-dcea86a1d8dd",
   "metadata": {},
   "outputs": [],
   "source": []
  }
 ],
 "metadata": {
  "kernelspec": {
   "display_name": "C++ 20",
   "language": "c++",
   "name": "cpp20"
  },
  "language_info": {
   "file_extension": ".cpp",
   "mimetype": "text/markdown",
   "name": "C++",
   "version": "1.0.0a9"
  }
 },
 "nbformat": 4,
 "nbformat_minor": 5
}
