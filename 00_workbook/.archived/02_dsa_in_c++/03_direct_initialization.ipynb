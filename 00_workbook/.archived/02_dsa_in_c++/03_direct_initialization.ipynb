{
 "cells": [
  {
   "cell_type": "code",
   "execution_count": 2,
   "id": "45afee7e-11a8-43c6-987d-a324fd8c4fb8",
   "metadata": {},
   "outputs": [
    {
     "data": {
      "text/markdown": [
       "100"
      ]
     },
     "metadata": {},
     "output_type": "display_data"
    }
   ],
   "source": [
    "#include <stdio.h>\n",
    "#include <stdlib.h>\n",
    "\n",
    "int main() {\n",
    "    int var(100);\n",
    "    printf(\"%d\", var);\n",
    "    return EXIT_SUCCESS;\n",
    "}"
   ]
  },
  {
   "cell_type": "code",
   "execution_count": null,
   "id": "b5ccdaaf-4b56-4d7e-b43b-01b8f30d4fd7",
   "metadata": {},
   "outputs": [],
   "source": []
  }
 ],
 "metadata": {
  "kernelspec": {
   "display_name": "C++ 20",
   "language": "c++",
   "name": "cpp20"
  },
  "language_info": {
   "file_extension": ".cpp",
   "mimetype": "text/markdown",
   "name": "C++",
   "version": "1.0.0a9"
  }
 },
 "nbformat": 4,
 "nbformat_minor": 5
}
