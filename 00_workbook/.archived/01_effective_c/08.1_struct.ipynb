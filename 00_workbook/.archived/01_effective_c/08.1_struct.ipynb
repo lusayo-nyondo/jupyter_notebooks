{
 "cells": [
  {
   "cell_type": "code",
   "execution_count": 24,
   "id": "d7d1e539-850e-4ccd-8a45-a0022cf72ac8",
   "metadata": {},
   "outputs": [
    {
     "name": "stdout",
     "output_type": "stream",
     "text": [
      "Nyondo weights 40.20 kg and is 27 years old and he's got a 5 year old cat named Pepper.\n",
      "0x61791e095890, (nil)"
     ]
    }
   ],
   "source": [
    "#include <stdio.h>\n",
    "#include <stdlib.h>\n",
    "\n",
    "struct person {\n",
    "    int age;\n",
    "    float weight;\n",
    "    char *name[20];\n",
    "};\n",
    "\n",
    "struct cat {\n",
    "    int age;\n",
    "    char *name[20];\n",
    "};\n",
    "\n",
    "typedef struct cat Cat;\n",
    "\n",
    "typedef struct dog {\n",
    "    int age;\n",
    "    char *name[20];\n",
    "} Dog, another_dog, typed_dog;\n",
    "\n",
    "struct bird {\n",
    "    int age;\n",
    "    char name[20];\n",
    "} larry;\n",
    "\n",
    "struct snake {\n",
    "    int age;\n",
    "} basilisk, python, *mamba, *leviathan;\n",
    "\n",
    "int main() {\n",
    "    struct person lusayo;\n",
    "    lusayo.age = 27;\n",
    "    lusayo.weight = 40.2;\n",
    "    *lusayo.name = \"Nyondo\";\n",
    "\n",
    "    Cat pepper;\n",
    "    pepper.age = 5;\n",
    "    *pepper.name = \"Pepper\";\n",
    "\n",
    "    typed_dog tido;\n",
    "\n",
    "    basilisk.age = 22;\n",
    "\n",
    "    mamba = malloc(sizeof(struct snake));\n",
    "    mamba->age = 34;\n",
    "\n",
    "    printf(\n",
    "        \"%s weights %.2lf kg and is %d years old and he's got a %d year old cat named %s.\\n\",\n",
    "        *lusayo.name, lusayo.weight, lusayo.age,\n",
    "        pepper.age, *pepper.name\n",
    "    );\n",
    "\n",
    "    printf(\"%p, %p\", mamba, leviathan);\n",
    "\n",
    "    return EXIT_SUCCESS;\n",
    "}"
   ]
  },
  {
   "cell_type": "code",
   "execution_count": null,
   "id": "b19c3557-316a-44a8-9405-e9a9d0a3420c",
   "metadata": {},
   "outputs": [],
   "source": []
  }
 ],
 "metadata": {
  "kernelspec": {
   "display_name": "C",
   "language": "c",
   "name": "c"
  },
  "language_info": {
   "file_extension": ".c",
   "mimetype": "text/plain",
   "name": "c"
  }
 },
 "nbformat": 4,
 "nbformat_minor": 5
}
