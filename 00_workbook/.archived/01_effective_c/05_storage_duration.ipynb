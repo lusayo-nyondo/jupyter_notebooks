{
 "cells": [
  {
   "cell_type": "markdown",
   "id": "c5d2e45b-bf64-4381-82da-ffe55113dbe9",
   "metadata": {},
   "source": [
    "# Notes\n",
    "\n",
    "So storage duration, otherwise known as object lifetime, refers to the duration in which an object will continue to exist.\n",
    "\n",
    "This is completely different from scope. Scope applies to identifiers. Lifetimes apply to objects.\n",
    "\n",
    "The scope of an identifier refers to the regions of code in which that identifier can be directly accessed. The lifetime of an object refers to the amount of time that the object exists while the project is running.\n",
    "\n",
    "We have four types of duration:\n",
    "\n",
    "1. automatic - basically, these are objects that use block scope to determine their lifetime. They exist while the block is being executed.\n",
    "3. static - these are objects declared in file scope. The lifetime of these objects is the entire duration of the program. And their stored value is initialized is initialized prior to program startup. Static variables must be initialized with constant values. A constant value doesn't mean a const qualified object. the `const` keyword stops a value from being edited from within a scope, but that doesn't mean it's a static value because it may still be instantiated with different actual values. A static value must be a literal constant, enum type, or the reusult of specific operators such as align of or sizeof.\n",
    "4. thread - These objects exist during the thread's entire runtime duration. It used in concurrent programming and is currently out of scope.\n",
    "5. allocated - These objects are dynamically allocated in memory in your program, and must be explicitly freed or destroyed."
   ]
  },
  {
   "cell_type": "code",
   "execution_count": null,
   "id": "0f4a2f4c-db53-4032-9793-41b0f3efebfd",
   "metadata": {},
   "outputs": [],
   "source": []
  }
 ],
 "metadata": {
  "kernelspec": {
   "display_name": "C",
   "language": "c",
   "name": "c"
  },
  "language_info": {
   "file_extension": ".c",
   "mimetype": "text/plain",
   "name": "c"
  }
 },
 "nbformat": 4,
 "nbformat_minor": 5
}
