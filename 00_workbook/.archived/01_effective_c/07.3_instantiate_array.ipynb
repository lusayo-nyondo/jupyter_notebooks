{
 "cells": [
  {
   "cell_type": "code",
   "execution_count": 5,
   "id": "b0c572b9-2e0f-4d27-9389-21f7d8b43d35",
   "metadata": {},
   "outputs": [
    {
     "name": "stdout",
     "output_type": "stream",
     "text": [
      "abcdefg"
     ]
    }
   ],
   "source": [
    "#include <stdio.h>\n",
    "#include <stdlib.h>\n",
    "\n",
    "int main() {\n",
    "    char name[8];\n",
    "\n",
    "    for (unsigned int i = 0; i < 7; i++) {\n",
    "        name[i] = 'a' + i;\n",
    "    }\n",
    "\n",
    "    name[7] = '\\0';\n",
    "\n",
    "    printf(\"%s\", name);\n",
    "\n",
    "    return EXIT_SUCCESS;\n",
    "}"
   ]
  },
  {
   "cell_type": "code",
   "execution_count": null,
   "id": "48addddb-0906-4f1c-afd2-e78de072cc3c",
   "metadata": {},
   "outputs": [],
   "source": []
  }
 ],
 "metadata": {
  "kernelspec": {
   "display_name": "C",
   "language": "c",
   "name": "c"
  },
  "language_info": {
   "file_extension": ".c",
   "mimetype": "text/plain",
   "name": "c"
  }
 },
 "nbformat": 4,
 "nbformat_minor": 5
}
