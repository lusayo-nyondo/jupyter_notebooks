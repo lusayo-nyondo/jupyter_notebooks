{
 "cells": [
  {
   "cell_type": "code",
   "execution_count": 9,
   "id": "0b1891d7-4f8a-4da1-a455-0b2cce5ef12a",
   "metadata": {},
   "outputs": [
    {
     "name": "stdout",
     "output_type": "stream",
     "text": [
      "1\n",
      "2\n",
      "3\n",
      "4\n",
      "5\n",
      "Retrieved value: 5"
     ]
    }
   ],
   "source": [
    "#include <stdio.h>\n",
    "#include <stdlib.h>\n",
    "\n",
    "static unsigned int counter = 0;\n",
    "\n",
    "void increment(void) {\n",
    "    counter++;\n",
    "    printf(\"%d\\n\", counter);\n",
    "}\n",
    "\n",
    "unsigned int retrieve(void) {\n",
    "    return counter;\n",
    "}\n",
    "\n",
    "int main() {\n",
    "    for (int i = 0; i < 5; i++) {\n",
    "        increment();\n",
    "    }\n",
    "\n",
    "    unsigned int counter = retrieve();\n",
    "\n",
    "    printf(\"Retrieved value: %d\", counter);\n",
    "\n",
    "    return EXIT_SUCCESS;\n",
    "}"
   ]
  },
  {
   "cell_type": "code",
   "execution_count": null,
   "id": "ca7b2705-b1f7-48f8-ba5d-61214a952e2a",
   "metadata": {},
   "outputs": [],
   "source": []
  }
 ],
 "metadata": {
  "kernelspec": {
   "display_name": "C",
   "language": "c",
   "name": "c"
  },
  "language_info": {
   "file_extension": ".c",
   "mimetype": "text/plain",
   "name": "c"
  }
 },
 "nbformat": 4,
 "nbformat_minor": 5
}
