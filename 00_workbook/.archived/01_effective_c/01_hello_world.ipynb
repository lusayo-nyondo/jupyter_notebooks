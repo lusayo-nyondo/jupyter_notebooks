{
 "cells": [
  {
   "cell_type": "code",
   "execution_count": 1,
   "id": "f5ca4358-d870-49cd-af34-7c65a97d2a18",
   "metadata": {},
   "outputs": [
    {
     "name": "stdout",
     "output_type": "stream",
     "text": [
      "Hello, World\n"
     ]
    }
   ],
   "source": [
    "#include <stdio.h>\n",
    "#include <stdlib.h>\n",
    "\n",
    "int main() {\n",
    "    puts(\"Hello, World\");\n",
    "    return EXIT_SUCCESS;\n",
    "}"
   ]
  },
  {
   "cell_type": "markdown",
   "id": "8192617b-8a22-434c-b201-caabcd1b2716",
   "metadata": {},
   "source": [
    "# Notes\n",
    "\n",
    "It would seem in the above example, puts writes to stdout.\n",
    "\n",
    "The return value seems to come from stdlib as a constant. I'd imagine it just defaults to \"0\"."
   ]
  },
  {
   "cell_type": "code",
   "execution_count": null,
   "id": "883f0a6e-5acf-4261-928e-e260431a258c",
   "metadata": {},
   "outputs": [],
   "source": []
  }
 ],
 "metadata": {
  "kernelspec": {
   "display_name": "C",
   "language": "c",
   "name": "c"
  },
  "language_info": {
   "file_extension": ".c",
   "mimetype": "text/plain",
   "name": "c"
  }
 },
 "nbformat": 4,
 "nbformat_minor": 5
}
