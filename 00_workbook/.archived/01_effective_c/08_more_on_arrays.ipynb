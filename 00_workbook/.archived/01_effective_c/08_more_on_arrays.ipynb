{
 "cells": [
  {
   "cell_type": "code",
   "execution_count": 18,
   "id": "a0215f2b-56f5-44e4-b7d0-17614a930cb1",
   "metadata": {},
   "outputs": [
    {
     "name": "stdout",
     "output_type": "stream",
     "text": [
      "27 is Lusayo years old"
     ]
    }
   ],
   "source": [
    "#include <stdio.h>\n",
    "#include <stdlib.h>\n",
    "\n",
    "int main() {\n",
    "    struct {\n",
    "        int age;\n",
    "        char *name[20];\n",
    "    } lusayo;\n",
    "\n",
    "    lusayo.age = 27;\n",
    "    *lusayo.name = \"Lusayo\";\n",
    "\n",
    "    printf(\"%d is %s years old\", lusayo.age, *lusayo.name);\n",
    "    return EXIT_SUCCESS;\n",
    "}"
   ]
  },
  {
   "cell_type": "code",
   "execution_count": null,
   "id": "01c4ffff-4e55-455d-83a6-78bd4d94ba08",
   "metadata": {},
   "outputs": [],
   "source": []
  }
 ],
 "metadata": {
  "kernelspec": {
   "display_name": "C",
   "language": "c",
   "name": "c"
  },
  "language_info": {
   "file_extension": ".c",
   "mimetype": "text/plain",
   "name": "c"
  }
 },
 "nbformat": 4,
 "nbformat_minor": 5
}
