{
 "cells": [
  {
   "cell_type": "code",
   "execution_count": 5,
   "id": "9d36c196-5ca0-41f5-92c6-bfd0ad4876d2",
   "metadata": {},
   "outputs": [
    {
     "name": "stdout",
     "output_type": "stream",
     "text": [
      "2, 1\n",
      "1, 2"
     ]
    }
   ],
   "source": [
    "#include <stdio.h>\n",
    "\n",
    "void swap(int x, int y) {\n",
    "    int temp = x;\n",
    "    x = y;\n",
    "    y = temp;\n",
    "\n",
    "    printf(\"%d, %d\\n\", x, y);\n",
    "}\n",
    "\n",
    "int main() {\n",
    "    int x = 1;\n",
    "    int y = 2;\n",
    "\n",
    "    swap(x, y);\n",
    "\n",
    "    printf(\"%d, %d\", x, y);\n",
    "}"
   ]
  },
  {
   "cell_type": "markdown",
   "id": "66d1ba5b-8204-4f33-8751-d66a9d3a529c",
   "metadata": {},
   "source": [
    "# Notes\n",
    "\n",
    "As you can see from the output, the above swaps the elements within the swap method, but outside the swap method, it doesn't swap them.\n",
    "\n",
    "The reason for this is two-fold:\n",
    "1. There's a difference between parameters and arguments. When you call `swap(x, y);` from within the main function, you are passing `x` and `y` as \"arguments.\" However, the `x` and `y` inside the definition of the `swap` method (i.e. `void swap(int x, int y)` are parameters. You can actually rename the parameters of the swap method to show that these are fundamentally different things. You can rename it to `void swap(int a, int b)`.\n",
    "2. When you pass an argument, you can either pass its value (the data it holds) or its reference (its location in memory). And here's the important part. When you pass it by value, a new reference is created for it in memory because you're essentially copying it to a new memory location, the memory location where the function definition resides.\n"
   ]
  },
  {
   "cell_type": "code",
   "execution_count": null,
   "id": "b60ca279-6798-4f93-af1f-8e540c4c9327",
   "metadata": {},
   "outputs": [],
   "source": []
  }
 ],
 "metadata": {
  "kernelspec": {
   "display_name": "C",
   "language": "c",
   "name": "c"
  },
  "language_info": {
   "file_extension": ".c",
   "mimetype": "text/plain",
   "name": "c"
  }
 },
 "nbformat": 4,
 "nbformat_minor": 5
}
