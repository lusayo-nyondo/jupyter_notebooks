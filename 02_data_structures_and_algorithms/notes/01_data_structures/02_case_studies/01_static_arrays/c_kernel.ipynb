{
 "cells": [
  {
   "cell_type": "markdown",
   "id": "584557e2-f1e1-473e-9b26-b55abf71bb36",
   "metadata": {},
   "source": [
    "# Problem Description\n",
    "\n",
    "Here, we describe the problem in detail to the user and ask them to edit the subsequent section.\n",
    "\n",
    "I think this is actually better than side-by-side editing, so that the user can focus on fully understanding the problem.\n",
    "\n",
    "We can also provide any demo cases, we can use LaTeX, it's actually perfect.\n",
    "\n",
    "Like this, the only infrastructural issue we'll have is making sure that each user's notebook is in a sandboxed environment, and we do not allow file-system or network access. It would be best to sandbox the user to their own browser even, if possible, so that these notebooks essentially run offline. Actually, why not?"
   ]
  },
  {
   "cell_type": "code",
   "execution_count": null,
   "id": "71870535-c853-49f6-8cb5-320b9530f306",
   "metadata": {},
   "outputs": [
    {
     "ename": "",
     "evalue": "",
     "output_type": "error",
     "traceback": [
      "\u001b[1;31mThe kernel failed to start due to the missing module 'jupyter_c_kernel'. Consider installing this module.\n",
      "\u001b[1;31mClick <a href='https://aka.ms/kernelFailuresMissingModule'>here</a> for more info."
     ]
    }
   ],
   "source": [
    "#include <stdio.h>\n",
    "#include <math.h>\n",
    "\n",
    "void runTests() {\n",
    "    printf(\"\\nRunning tests.\");\n",
    "    printf(\"\\n%d\\n\", pow(2, 3));\n",
    "}\n",
    "// ⚠️ DO NOT EDIT ANYTHING ABOVE THIS.\n",
    "\n",
    "// Write Your Code Here\n",
    "void yourCode() {\n",
    "    printf(\"Executing your code.\");\n",
    "}\n",
    "\n",
    "// ⚠️ DO NOT EDIT ANYTHING BELOW THIS.\n",
    "int main() {\n",
    "    yourCode();\n",
    "    runTests();\n",
    "}"
   ]
  },
  {
   "cell_type": "code",
   "execution_count": null,
   "id": "d0a00e68-39bd-42b5-b0d9-3235724adfd5",
   "metadata": {},
   "outputs": [],
   "source": []
  }
 ],
 "metadata": {
  "kernelspec": {
   "display_name": "C",
   "language": "c",
   "name": "c"
  },
  "language_info": {
   "file_extension": ".c",
   "mimetype": "text/plain",
   "name": "c"
  }
 },
 "nbformat": 4,
 "nbformat_minor": 5
}
