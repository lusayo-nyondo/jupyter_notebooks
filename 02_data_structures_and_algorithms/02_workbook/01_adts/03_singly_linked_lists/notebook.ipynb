{
 "cells": [
  {
   "cell_type": "markdown",
   "id": "776de2d6",
   "metadata": {},
   "source": [
    "A Singly Linked List is a linear ADT that utilizes the pointer-based storage model to group an ordered series of elements in a non-contiguous block of memory.\n",
    "\n",
    "1. Underlying Storage Model\n",
    "A singly linked list is based on an index-based storage model. It stores its elements in a non-contiguous block of memory, which allows for fast inserts and deletes.\n",
    "\n",
    "2. Constraints\n",
    "\n",
    "Homogeneity: All elements must be of the same data type.\n",
    "\n",
    "3. Operations\n",
    "\n",
    "a. Retrieval and Updates\n",
    "The pop() and set(index, value) operations work identically to a static array. They provide constant-time access because the memory address is calculated directly from the index.\n",
    "\n",
    "b. Insertion and Deletion (with a key optimization)\n",
    "insert(value): When an element is added and the logical size exceeds the physical size, the dynamic array performs a resizing precomputation. This involves:\n",
    "\n",
    "Creating a new, larger static array (often double the current physical size).\n",
    "\n",
    "Copying all the elements from the old array to the new one.\n",
    "\n",
    "Inserting the new element.\n",
    "\n",
    "delete(): Deleting an element is similar to a static array, as it requires shifting elements to fill the gap. Some dynamic arrays may also perform a resizing operation to reduce their size if the logical size drops below a certain threshold.\n",
    "\n",
    "While a single insertion that triggers a resize is a slow operation, these resizes are infrequent. This amortized analysis makes the dynamic array a practical and efficient ADT for most applications.\n",
    "\n",
    "c. Navigation\n",
    "traverse(): Just like a static array, you can iterate through the elements from start to finish, which is a form of linear navigation."
   ]
  }
 ],
 "metadata": {
  "language_info": {
   "name": "python"
  }
 },
 "nbformat": 4,
 "nbformat_minor": 5
}
