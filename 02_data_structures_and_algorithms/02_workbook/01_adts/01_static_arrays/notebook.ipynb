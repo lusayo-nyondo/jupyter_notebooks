{
 "cells": [
  {
   "cell_type": "markdown",
   "id": "55946701",
   "metadata": {},
   "source": [
    "# Static Array\n",
    "\n",
    "A Static Array is a foundational, linear ADT. It is defined by its core characteristics and the operations it supports.\n",
    "\n",
    "## 1. Storage Model\n",
    "\n",
    "A Static Array is a quintessential example of an Index-Based Data Model. It relies on a contiguous block of memory where elements of the same size are stored sequentially. This fixed, ordered arrangement is what gives it its unique properties.\n",
    "\n",
    "## 2. Constraints\n",
    "\n",
    "- Fixed Size: The size of the array is set when it is created and cannot be changed. This is a direct consequence of its index-based storage model.\n",
    "\n",
    "- Homogeneity: All elements in a static array must be of the same data type, and thus, the same size. This allows for the precise memory address calculations that define its performance.\n",
    "\n",
    "## 3. Operations\n",
    "a. Retrieval and Updates\n",
    "\n",
    "- get(index): Returns the value at a specified index. This is a direct query because the memory address can be calculated instantly using the formula: start_address + index * element_size.\n",
    "\n",
    "- set(index, value): Updates the value at a specified index. This is also a direct, constant-time operation.\n",
    "\n",
    "b. Navigation\n",
    "traverse(): Iterates through all elements from the beginning to the end. This is a form of linear navigation, typically performed using a single pointer or index.\n",
    "\n",
    "c. Insertion and Deletion\n",
    "\n",
    "Strictly speaking, static arrays do not support insertion and deletion because a static array has a fixed size at compile time."
   ]
  },
  {
   "cell_type": "code",
   "execution_count": null,
   "id": "e3c0926e-6da8-4290-a4dd-3440f6c2a32e",
   "metadata": {},
   "outputs": [],
   "source": [
    "# implementation\n",
    "\n",
    "## In python, we don't have static arrays. We just use the `tuple` data type."
   ]
  },
  {
   "cell_type": "code",
   "execution_count": null,
   "id": "ac259890",
   "metadata": {},
   "outputs": [],
   "source": []
  }
 ],
 "metadata": {
  "kernelspec": {
   "display_name": "Python 3 (ipykernel)",
   "language": "python",
   "name": "python3"
  },
  "language_info": {
   "codemirror_mode": {
    "name": "ipython",
    "version": 3
   },
   "file_extension": ".py",
   "mimetype": "text/x-python",
   "name": "python",
   "nbconvert_exporter": "python",
   "pygments_lexer": "ipython3",
   "version": "3.12.3"
  }
 },
 "nbformat": 4,
 "nbformat_minor": 5
}
