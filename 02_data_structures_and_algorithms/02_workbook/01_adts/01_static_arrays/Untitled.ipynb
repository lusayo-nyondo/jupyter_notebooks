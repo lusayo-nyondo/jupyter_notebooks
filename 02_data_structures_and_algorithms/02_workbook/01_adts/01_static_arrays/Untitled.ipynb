{
 "cells": [
  {
   "cell_type": "code",
   "execution_count": null,
   "id": "e3c0926e-6da8-4290-a4dd-3440f6c2a32e",
   "metadata": {},
   "outputs": [],
   "source": [
    "class StaticArray:\n",
    "    def __init__(self, data_type, size):\n",
    "        if not isinstance(data_type, type):\n",
    "            raise Exception(\"Need to pass a Class as data_type.\")\n",
    "        self.data_type = data_type\n",
    "        self.size = size\n",
    "\n",
    "        self._items = [ float('-inf') ] * size\n",
    "\n",
    "    def add(self, item):\n",
    "        if "
   ]
  }
 ],
 "metadata": {
  "kernelspec": {
   "display_name": "Python 3 (ipykernel)",
   "language": "python",
   "name": "python3"
  },
  "language_info": {
   "codemirror_mode": {
    "name": "ipython",
    "version": 3
   },
   "file_extension": ".py",
   "mimetype": "text/x-python",
   "name": "python",
   "nbconvert_exporter": "python",
   "pygments_lexer": "ipython3",
   "version": "3.12.3"
  }
 },
 "nbformat": 4,
 "nbformat_minor": 5
}
