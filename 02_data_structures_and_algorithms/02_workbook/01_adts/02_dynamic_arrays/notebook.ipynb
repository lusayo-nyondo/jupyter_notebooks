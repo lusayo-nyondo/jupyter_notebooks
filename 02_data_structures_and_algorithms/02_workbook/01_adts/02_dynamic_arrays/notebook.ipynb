{
 "cells": [
  {
   "cell_type": "markdown",
   "id": "c77d6cb3",
   "metadata": {},
   "source": [
    "# Dynamic Array\n",
    "\n",
    "A Dynamic Array is a linear ADT that combines the benefits of an index-based storage model with the ability to dynamically resize itself. It's often referred to as a resizable array, vector (in C++), or ArrayList (in Java).\n",
    "\n",
    "## 1. Underlying Storage Model\n",
    "Like a static array, a dynamic array is built on an index-based storage model. It stores its elements in a contiguous block of memory, which allows for fast, random access using an index.\n",
    "\n",
    "## 2. Constraints\n",
    "The dynamic array ADT imposes the same constraints as a static array, with one crucial difference:\n",
    "\n",
    "- Logical vs. Physical Size: It maintains both a logical size (the number of elements currently in the array) and a physical size (the total capacity of the underlying memory block). This allows it to handle changes in size without the rigid limitations of a static array.\n",
    "\n",
    "- Homogeneity: All elements must be of the same data type.\n",
    "\n",
    "## 3. Operations\n",
    "A dynamic array supports all the operations of a static array, but it also includes a key precomputation technique that allows for efficient resizing.\n",
    "\n",
    "a. Access and Retrieval\n",
    "\n",
    "- get(index): Returns the value at a specified index. This is a direct query because the memory address can be calculated instantly using the formula: start_address + index * element_size.\n",
    "\n",
    "- set(index, value): Updates the value at a specified index. This is also a direct, constant-time operation.\n",
    "\n",
    "b. Navigation\n",
    "traverse(): Iterates through all elements from the beginning to the end. This is a form of linear navigation, typically performed using a single pointer or index.\n",
    "\n",
    "c. Insertion and Deletion\n",
    "- insert(index, value): To insert a new element, you must first shift all subsequent elements to make room, and then place the new element. This can involve many data movements. When an element is added and the logical size exceeds the physical size, the dynamic array performs a resizing precomputation. While a single insertion that triggers a resize is a slow operation, these resizes are infrequent. This amortized analysis makes the dynamic array a practical and efficient ADT for most applications. This resizing operation involves:\n",
    "    - Creating a new, larger static array (often double the current physical size).\n",
    "    - Copying all the elements from the old array to the new one.\n",
    "    - Inserting the new element.\n",
    "\n",
    "- delete(index): Deleting an element requires shifting elements to fill the gap. Some dynamic arrays may also perform a resizing operation to reduce their size if the logical size drops below a certain threshold.\n"
   ]
  },
  {
   "cell_type": "code",
   "execution_count": null,
   "id": "52ba05f0",
   "metadata": {},
   "outputs": [],
   "source": [
    "# implementation\n",
    "\n",
    "## In python, we simply use the `list` data type for dynamic arrays."
   ]
  }
 ],
 "metadata": {
  "language_info": {
   "name": "python"
  }
 },
 "nbformat": 4,
 "nbformat_minor": 5
}
