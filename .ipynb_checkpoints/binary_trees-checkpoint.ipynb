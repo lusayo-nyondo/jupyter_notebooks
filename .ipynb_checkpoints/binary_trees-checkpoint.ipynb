{
 "cells": [
  {
   "cell_type": "markdown",
   "id": "b1baa051-93e6-4da7-87e0-f137a6bc015d",
   "metadata": {},
   "source": [
    "Binary Trees contain nodes. There is a root node which is a node without a parent but has children.\n",
    "All nodes either have parents or children. The children nodes are either left or right node.\n",
    "\n",
    "A class for a binary tree node would would look something like:\n",
    "\n",
    "```python\n",
    "class Node:\n",
    "    val\n",
    "    left: Node\n",
    "    right: Node\n",
    "```\n",
    "\n",
    "Binary trees have subtrees.\n",
    "\n",
    "Trees have leafs.\n",
    "\n",
    "Leaf nodes are nodes that don't have any other branches.\n",
    "\n",
    "A complete tree has all levels filled out except for the end. A perfect tree is completely filled out."
   ]
  },
  {
   "cell_type": "code",
   "execution_count": null,
   "id": "d067e460-2ba4-4cc1-8c5b-d3281163cd3d",
   "metadata": {},
   "outputs": [],
   "source": []
  }
 ],
 "metadata": {
  "kernelspec": {
   "display_name": "Python 3 (ipykernel)",
   "language": "python",
   "name": "python3"
  },
  "language_info": {
   "codemirror_mode": {
    "name": "ipython",
    "version": 3
   },
   "file_extension": ".py",
   "mimetype": "text/x-python",
   "name": "python",
   "nbconvert_exporter": "python",
   "pygments_lexer": "ipython3",
   "version": "3.12.3"
  }
 },
 "nbformat": 4,
 "nbformat_minor": 5
}
