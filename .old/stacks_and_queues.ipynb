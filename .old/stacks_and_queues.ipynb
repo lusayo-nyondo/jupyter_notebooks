{
 "cells": [
  {
   "cell_type": "code",
   "execution_count": 1,
   "id": "fb90dcb1-fc8e-4946-94f8-b12cadbca17d",
   "metadata": {},
   "outputs": [
    {
     "data": {
      "text/plain": [
       "['/home/sayo/jupyter_notebooks',\n",
       " '/usr/lib/python312.zip',\n",
       " '/usr/lib/python3.12',\n",
       " '/usr/lib/python3.12/lib-dynload',\n",
       " '',\n",
       " '/home/sayo/.config/jupyterlab-desktop/envs/env/lib/python3.12/site-packages',\n",
       " '/home/sayo/.config/jupyterlab-desktop/envs/env/jupyter-dart-kernel/src']"
      ]
     },
     "execution_count": 1,
     "metadata": {},
     "output_type": "execute_result"
    }
   ],
   "source": [
    "import sys\n",
    "sys.path"
   ]
  },
  {
   "cell_type": "code",
   "execution_count": null,
   "id": "323cd8b8-e33b-4cc5-8a1c-06046ef145f3",
   "metadata": {},
   "outputs": [],
   "source": []
  }
 ],
 "metadata": {
  "kernelspec": {
   "display_name": "Python 3 (ipykernel)",
   "language": "python",
   "name": "python3"
  },
  "language_info": {
   "codemirror_mode": {
    "name": "ipython",
    "version": 3
   },
   "file_extension": ".py",
   "mimetype": "text/x-python",
   "name": "python",
   "nbconvert_exporter": "python",
   "pygments_lexer": "ipython3",
   "version": "3.12.3"
  }
 },
 "nbformat": 4,
 "nbformat_minor": 5
}
