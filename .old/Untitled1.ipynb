{
 "cells": [
  {
   "cell_type": "code",
   "execution_count": 1,
   "id": "871f5d8e-6313-48b3-9cea-b1e105e845ec",
   "metadata": {},
   "outputs": [
    {
     "name": "stdout",
     "output_type": "stream",
     "text": [
      "Hello world\n"
     ]
    }
   ],
   "source": [
    "void main() {\n",
    "    print(\"Hello world\");\n",
    "}\n",
    "\n",
    "main();"
   ]
  },
  {
   "cell_type": "code",
   "execution_count": null,
   "id": "ed21d6d1-fca5-4002-b1b4-e4ab46f40290",
   "metadata": {},
   "outputs": [],
   "source": [
    "void another_func() {\n",
    "    print(\"This is another function.\");\n",
    "}"
   ]
  },
  {
   "cell_type": "code",
   "execution_count": 7,
   "id": "96903d1c-2f44-4e72-a356-a3faacfdfda9",
   "metadata": {},
   "outputs": [
    {
     "name": "stdout",
     "output_type": "stream",
     "text": [
      "This is another function.\n"
     ]
    }
   ],
   "source": [
    "another_func();"
   ]
  },
  {
   "cell_type": "code",
   "execution_count": null,
   "id": "f1b3ee07-ef24-45f4-af4d-0baa36e8ce44",
   "metadata": {},
   "outputs": [],
   "source": [
    "void error() {}"
   ]
  },
  {
   "cell_type": "code",
   "execution_count": 5,
   "id": "33bbd264-d8aa-4789-bc63-17ca18fbde68",
   "metadata": {},
   "outputs": [
    {
     "name": "stdout",
     "output_type": "stream",
     "text": []
    }
   ],
   "source": [
    "error();"
   ]
  },
  {
   "cell_type": "code",
   "execution_count": 9,
   "id": "6e158b1e-3dfe-45dd-8b5e-1043f8ba33ea",
   "metadata": {},
   "outputs": [
    {
     "name": "stdout",
     "output_type": "stream",
     "text": []
    }
   ],
   "source": [
    "var x = \"this is my var.\";"
   ]
  },
  {
   "cell_type": "code",
   "execution_count": 11,
   "id": "2ec01847-e65d-46ed-a163-6e79e1ad7efa",
   "metadata": {},
   "outputs": [
    {
     "name": "stdout",
     "output_type": "stream",
     "text": [
      "this is my var.\n"
     ]
    }
   ],
   "source": [
    "print(x);"
   ]
  },
  {
   "cell_type": "code",
   "execution_count": null,
   "id": "b854f1e7-baca-4129-85be-8816b52d9458",
   "metadata": {},
   "outputs": [],
   "source": []
  }
 ],
 "metadata": {
  "kernelspec": {
   "display_name": "Dart",
   "language": "",
   "name": "jupyterdartkernel"
  },
  "language_info": {
   "file_extension": "dart",
   "mimetype": "application/dart",
   "name": "dart"
  }
 },
 "nbformat": 4,
 "nbformat_minor": 5
}
