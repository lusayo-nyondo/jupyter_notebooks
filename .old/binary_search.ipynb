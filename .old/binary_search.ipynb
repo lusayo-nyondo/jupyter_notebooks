{
 "cells": [
  {
   "cell_type": "code",
   "execution_count": 2,
   "id": "1ebb3c10-fa84-42db-9838-533962b501fc",
   "metadata": {},
   "outputs": [],
   "source": [
    "arr = [-3, -1, 1, 3, 5, 6, 7, 8, 9]\n",
    "\n",
    "def binary_search(arr, item):\n",
    "    n = len(arr)\n",
    "\n",
    "    l = 0\n",
    "    r = n -1\n",
    "\n",
    "    while l <= r:\n",
    "        m = (l + r) // 2\n",
    "\n",
    "        if arr[m] == item:\n",
    "            return True\n",
    "        elif arr[m] < item:\n",
    "            l = m + 1\n",
    "        else:\n",
    "            r = m -1\n",
    "\n",
    "    return False"
   ]
  },
  {
   "cell_type": "code",
   "execution_count": 3,
   "id": "cfc57af7-295a-4498-8f72-1fa6a2eeb050",
   "metadata": {},
   "outputs": [
    {
     "data": {
      "text/plain": [
       "True"
      ]
     },
     "execution_count": 3,
     "metadata": {},
     "output_type": "execute_result"
    }
   ],
   "source": [
    "binary_search(arr, 3)"
   ]
  },
  {
   "cell_type": "code",
   "execution_count": 4,
   "id": "86accd7b-2146-49a9-80cd-5d016bbd294a",
   "metadata": {},
   "outputs": [
    {
     "data": {
      "text/plain": [
       "False"
      ]
     },
     "execution_count": 4,
     "metadata": {},
     "output_type": "execute_result"
    }
   ],
   "source": [
    "binary_search(arr, 2)"
   ]
  },
  {
   "cell_type": "code",
   "execution_count": 5,
   "id": "a1611997-53f6-4897-a714-ae1775fba205",
   "metadata": {},
   "outputs": [
    {
     "data": {
      "text/plain": [
       "True"
      ]
     },
     "execution_count": 5,
     "metadata": {},
     "output_type": "execute_result"
    }
   ],
   "source": [
    "binary_search(arr, 9)"
   ]
  },
  {
   "cell_type": "code",
   "execution_count": 3,
   "id": "e98e9b9a-eb97-4a17-ade7-59f8498f1857",
   "metadata": {},
   "outputs": [],
   "source": [
    "condition_arr = [False, False, False, False, True, True, True]\n",
    "\n",
    "def binary_search_first_instance_of_condition(arr, condition):\n",
    "    n = len(arr)\n",
    "\n",
    "    l = 0\n",
    "    r = n - 1\n",
    "\n",
    "    while l < r:\n",
    "        m = (l + r) // 2\n",
    "\n",
    "        if arr[m] == condition: # If this satisfies the condition, move r to the left to see if we can find a lower satisfying instance.\n",
    "            r = m\n",
    "        else: # If this doesn't satisfy the condition, we can eliminate everything from index M down because we don't need it.\n",
    "            l = m + 1\n",
    "\n",
    "    return l # Return l or r because by the time the loop finishes, l will be equal to r."
   ]
  },
  {
   "cell_type": "code",
   "execution_count": 5,
   "id": "ff2dabe7-42e8-42be-935d-e53d59d6c038",
   "metadata": {},
   "outputs": [
    {
     "data": {
      "text/plain": [
       "4"
      ]
     },
     "execution_count": 5,
     "metadata": {},
     "output_type": "execute_result"
    }
   ],
   "source": [
    "binary_search_first_instance_of_condition(condition_arr, True)"
   ]
  },
  {
   "cell_type": "code",
   "execution_count": null,
   "id": "2cd8b29d-562b-4809-9315-893b56a7833c",
   "metadata": {},
   "outputs": [],
   "source": []
  }
 ],
 "metadata": {
  "kernelspec": {
   "display_name": "Python 3 (ipykernel)",
   "language": "python",
   "name": "python3"
  },
  "language_info": {
   "codemirror_mode": {
    "name": "ipython",
    "version": 3
   },
   "file_extension": ".py",
   "mimetype": "text/x-python",
   "name": "python",
   "nbconvert_exporter": "python",
   "pygments_lexer": "ipython3",
   "version": "3.12.3"
  }
 },
 "nbformat": 4,
 "nbformat_minor": 5
}
