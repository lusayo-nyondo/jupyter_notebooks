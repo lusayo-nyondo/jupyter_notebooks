{
 "cells": [
  {
   "cell_type": "code",
   "execution_count": 4,
   "id": "b44f9310-0418-4865-be9a-a9e211d2f9a3",
   "metadata": {},
   "outputs": [
    {
     "ename": "ERROR",
     "evalue": "error",
     "output_type": "error",
     "status": "error",
     "traceback": [
      "/bin/sh: 1: dart: not found"
     ]
    }
   ],
   "source": [
    "void main() {}"
   ]
  },
  {
   "cell_type": "code",
   "execution_count": null,
   "id": "7e555706-2a5d-447b-bfd3-c67060c93888",
   "metadata": {},
   "outputs": [],
   "source": []
  }
 ],
 "metadata": {
  "kernelspec": {
   "display_name": "Dart",
   "language": "",
   "name": "jupyterdartkernel"
  },
  "language_info": {
   "file_extension": "dart",
   "mimetype": "application/dart",
   "name": "dart"
  }
 },
 "nbformat": 4,
 "nbformat_minor": 5
}
